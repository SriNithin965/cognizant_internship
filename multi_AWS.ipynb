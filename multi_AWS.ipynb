{
  "cells": [
    {
      "cell_type": "markdown",
      "metadata": {
        "id": "view-in-github",
        "colab_type": "text"
      },
      "source": [
        "<a href=\"https://colab.research.google.com/github/SriNithin965/cognizant_internship/blob/main/multi_AWS.ipynb\" target=\"_parent\"><img src=\"https://colab.research.google.com/assets/colab-badge.svg\" alt=\"Open In Colab\"/></a>"
      ]
    },
    {
      "cell_type": "code",
      "execution_count": null,
      "id": "e11ea4fc",
      "metadata": {
        "id": "e11ea4fc"
      },
      "outputs": [],
      "source": [
        "import pandas as pd\n",
        "import numpy as np\n",
        "df = pd.read_csv('https://raw.githubusercontent.com/SriNithin965/cognizant_internship/main/iris%20.csv')"
      ]
    },
    {
      "cell_type": "code",
      "execution_count": null,
      "id": "8858bdfb",
      "metadata": {
        "id": "8858bdfb",
        "outputId": "834a5c33-eed0-496b-c2ed-a91b504a6696"
      },
      "outputs": [
        {
          "data": {
            "text/html": [
              "<div>\n",
              "<style scoped>\n",
              "    .dataframe tbody tr th:only-of-type {\n",
              "        vertical-align: middle;\n",
              "    }\n",
              "\n",
              "    .dataframe tbody tr th {\n",
              "        vertical-align: top;\n",
              "    }\n",
              "\n",
              "    .dataframe thead th {\n",
              "        text-align: right;\n",
              "    }\n",
              "</style>\n",
              "<table border=\"1\" class=\"dataframe\">\n",
              "  <thead>\n",
              "    <tr style=\"text-align: right;\">\n",
              "      <th></th>\n",
              "      <th>sepal_length</th>\n",
              "      <th>sepal_width</th>\n",
              "      <th>petal_length</th>\n",
              "      <th>petal_width</th>\n",
              "      <th>class</th>\n",
              "    </tr>\n",
              "  </thead>\n",
              "  <tbody>\n",
              "    <tr>\n",
              "      <th>0</th>\n",
              "      <td>5.1</td>\n",
              "      <td>3.5</td>\n",
              "      <td>1.4</td>\n",
              "      <td>0.2</td>\n",
              "      <td>Iris-setosa</td>\n",
              "    </tr>\n",
              "    <tr>\n",
              "      <th>1</th>\n",
              "      <td>4.9</td>\n",
              "      <td>3.0</td>\n",
              "      <td>1.4</td>\n",
              "      <td>0.2</td>\n",
              "      <td>Iris-setosa</td>\n",
              "    </tr>\n",
              "    <tr>\n",
              "      <th>2</th>\n",
              "      <td>4.7</td>\n",
              "      <td>3.2</td>\n",
              "      <td>1.3</td>\n",
              "      <td>0.2</td>\n",
              "      <td>Iris-setosa</td>\n",
              "    </tr>\n",
              "    <tr>\n",
              "      <th>3</th>\n",
              "      <td>4.6</td>\n",
              "      <td>3.1</td>\n",
              "      <td>1.5</td>\n",
              "      <td>0.2</td>\n",
              "      <td>Iris-setosa</td>\n",
              "    </tr>\n",
              "    <tr>\n",
              "      <th>4</th>\n",
              "      <td>5.0</td>\n",
              "      <td>3.6</td>\n",
              "      <td>1.4</td>\n",
              "      <td>0.2</td>\n",
              "      <td>Iris-setosa</td>\n",
              "    </tr>\n",
              "    <tr>\n",
              "      <th>5</th>\n",
              "      <td>5.4</td>\n",
              "      <td>3.9</td>\n",
              "      <td>1.7</td>\n",
              "      <td>0.4</td>\n",
              "      <td>Iris-setosa</td>\n",
              "    </tr>\n",
              "    <tr>\n",
              "      <th>6</th>\n",
              "      <td>4.6</td>\n",
              "      <td>3.4</td>\n",
              "      <td>1.4</td>\n",
              "      <td>0.3</td>\n",
              "      <td>Iris-setosa</td>\n",
              "    </tr>\n",
              "    <tr>\n",
              "      <th>7</th>\n",
              "      <td>5.0</td>\n",
              "      <td>3.4</td>\n",
              "      <td>1.5</td>\n",
              "      <td>0.2</td>\n",
              "      <td>Iris-setosa</td>\n",
              "    </tr>\n",
              "    <tr>\n",
              "      <th>8</th>\n",
              "      <td>4.4</td>\n",
              "      <td>2.9</td>\n",
              "      <td>1.4</td>\n",
              "      <td>0.2</td>\n",
              "      <td>Iris-setosa</td>\n",
              "    </tr>\n",
              "    <tr>\n",
              "      <th>9</th>\n",
              "      <td>4.9</td>\n",
              "      <td>3.1</td>\n",
              "      <td>1.5</td>\n",
              "      <td>0.1</td>\n",
              "      <td>Iris-setosa</td>\n",
              "    </tr>\n",
              "  </tbody>\n",
              "</table>\n",
              "</div>"
            ],
            "text/plain": [
              "   sepal_length  sepal_width  petal_length  petal_width        class\n",
              "0           5.1          3.5           1.4          0.2  Iris-setosa\n",
              "1           4.9          3.0           1.4          0.2  Iris-setosa\n",
              "2           4.7          3.2           1.3          0.2  Iris-setosa\n",
              "3           4.6          3.1           1.5          0.2  Iris-setosa\n",
              "4           5.0          3.6           1.4          0.2  Iris-setosa\n",
              "5           5.4          3.9           1.7          0.4  Iris-setosa\n",
              "6           4.6          3.4           1.4          0.3  Iris-setosa\n",
              "7           5.0          3.4           1.5          0.2  Iris-setosa\n",
              "8           4.4          2.9           1.4          0.2  Iris-setosa\n",
              "9           4.9          3.1           1.5          0.1  Iris-setosa"
            ]
          },
          "execution_count": 2,
          "metadata": {},
          "output_type": "execute_result"
        }
      ],
      "source": [
        "df.head(10)"
      ]
    },
    {
      "cell_type": "code",
      "execution_count": null,
      "id": "9f1ec6e4",
      "metadata": {
        "id": "9f1ec6e4"
      },
      "outputs": [],
      "source": [
        "from sklearn import preprocessing\n",
        "le = preprocessing.LabelEncoder()\n",
        "le.fit(['Iris-setosa', 'Iris-versicolor', 'Iris-virginica'])\n",
        "columns = ['encoded_class','sepal_length','sepal_width','petal_length','petal_width']"
      ]
    },
    {
      "cell_type": "code",
      "execution_count": null,
      "id": "ffb33222",
      "metadata": {
        "id": "ffb33222"
      },
      "outputs": [],
      "source": [
        "df['encoded_class'] = le.transform(df['class'])"
      ]
    },
    {
      "cell_type": "code",
      "execution_count": null,
      "id": "1555f2c6",
      "metadata": {
        "id": "1555f2c6"
      },
      "outputs": [],
      "source": [
        "np.random.seed(5)\n",
        "l = list(df.index)\n",
        "np.random.shuffle(l)\n",
        "df = df.iloc[l]"
      ]
    },
    {
      "cell_type": "code",
      "execution_count": null,
      "id": "72e9fc14",
      "metadata": {
        "id": "72e9fc14"
      },
      "outputs": [],
      "source": [
        "rows = df.shape[0]\n",
        "train = int(.7 * rows)\n",
        "test = rows-train"
      ]
    },
    {
      "cell_type": "code",
      "execution_count": null,
      "id": "729a80aa",
      "metadata": {
        "id": "729a80aa",
        "outputId": "0fe9d652-0f27-4557-89cc-e47b0b9fb2be"
      },
      "outputs": [
        {
          "data": {
            "text/plain": [
              "(150, 105, 45)"
            ]
          },
          "execution_count": 7,
          "metadata": {},
          "output_type": "execute_result"
        }
      ],
      "source": [
        "rows, train, test"
      ]
    },
    {
      "cell_type": "code",
      "execution_count": null,
      "id": "bdb04a58",
      "metadata": {
        "id": "bdb04a58"
      },
      "outputs": [],
      "source": [
        "df[:train].to_csv('iris_train.csv'\n",
        "                          ,index=False,header=False\n",
        "                          ,columns=columns)"
      ]
    },
    {
      "cell_type": "code",
      "execution_count": null,
      "id": "034e464e",
      "metadata": {
        "id": "034e464e"
      },
      "outputs": [],
      "source": [
        "df[train:].to_csv('iris_validation.csv'\n",
        "                          ,index=False,header=False\n",
        "                          ,columns=columns)"
      ]
    },
    {
      "cell_type": "markdown",
      "source": [
        "<h1>LOCAL MODE OF XGBOOST IMPLEMENTATION</h1>"
      ],
      "metadata": {
        "id": "5oWT0c1fL7C8"
      },
      "id": "5oWT0c1fL7C8"
    },
    {
      "cell_type": "code",
      "execution_count": null,
      "id": "19a4247e",
      "metadata": {
        "id": "19a4247e",
        "outputId": "9448294b-6704-45b4-b6af-728daaa3cfbe"
      },
      "outputs": [
        {
          "name": "stdout",
          "output_type": "stream",
          "text": [
            "Collecting xgboost==1.2\n",
            "  Downloading xgboost-1.2.0-py3-none-manylinux2010_x86_64.whl (148.9 MB)\n",
            "     |████████████████████████████████| 148.9 MB 68.3 MB/s            \n",
            "\u001b[?25hRequirement already satisfied: scipy in /home/ec2-user/anaconda3/envs/python3/lib/python3.6/site-packages (from xgboost==1.2) (1.5.3)\n",
            "Requirement already satisfied: numpy in /home/ec2-user/anaconda3/envs/python3/lib/python3.6/site-packages (from xgboost==1.2) (1.19.5)\n",
            "Installing collected packages: xgboost\n",
            "Successfully installed xgboost-1.2.0\n"
          ]
        }
      ],
      "source": [
        "!pip install xgboost==1.2"
      ]
    },
    {
      "cell_type": "code",
      "execution_count": null,
      "id": "ae2d713e",
      "metadata": {
        "id": "ae2d713e",
        "outputId": "88c8346a-dfef-412a-bc17-f166c1502ac5"
      },
      "outputs": [
        {
          "name": "stderr",
          "output_type": "stream",
          "text": [
            "Matplotlib is building the font cache; this may take a moment.\n"
          ]
        }
      ],
      "source": [
        "import sys\n",
        "import numpy as np\n",
        "import pandas as pd\n",
        "import matplotlib.pyplot as plt\n",
        "import itertools\n",
        "import xgboost as xgb\n",
        "\n",
        "from sklearn import preprocessing\n",
        "from sklearn.metrics import classification_report, confusion_matrix"
      ]
    },
    {
      "cell_type": "code",
      "execution_count": null,
      "id": "f618a00e",
      "metadata": {
        "id": "f618a00e"
      },
      "outputs": [],
      "source": [
        "train_file = 'iris_train.csv'\n",
        "validation_file = 'iris_validation.csv'"
      ]
    },
    {
      "cell_type": "code",
      "execution_count": null,
      "id": "bf2b437d",
      "metadata": {
        "id": "bf2b437d"
      },
      "outputs": [],
      "source": [
        "columns=['encoded_class','sepal_length','sepal_width','petal_length','petal_width']"
      ]
    },
    {
      "cell_type": "code",
      "execution_count": null,
      "id": "bac0c455",
      "metadata": {
        "id": "bac0c455",
        "outputId": "2f7f9b6f-8b44-44bd-8ce5-9f9544e0aee9"
      },
      "outputs": [
        {
          "data": {
            "text/plain": [
              "LabelEncoder()"
            ]
          },
          "execution_count": 5,
          "metadata": {},
          "output_type": "execute_result"
        }
      ],
      "source": [
        "labels=[0,1,2]\n",
        "classes = ['Iris-setosa', 'Iris-versicolor', 'Iris-virginica']\n",
        "le = preprocessing.LabelEncoder()\n",
        "le.fit(classes)"
      ]
    },
    {
      "cell_type": "code",
      "execution_count": null,
      "id": "9081aecf",
      "metadata": {
        "id": "9081aecf"
      },
      "outputs": [],
      "source": [
        "df_train = pd.read_csv(train_file,names=columns)\n",
        "df_validation = pd.read_csv(validation_file,names=columns)"
      ]
    },
    {
      "cell_type": "code",
      "execution_count": null,
      "id": "c36c7b8e",
      "metadata": {
        "id": "c36c7b8e"
      },
      "outputs": [],
      "source": [
        "X_train = df_train.iloc[:,1:] # Features: 1st column onwards \n",
        "y_train = df_train.iloc[:,0].ravel() # Target: 0th column\n",
        "\n",
        "X_validation = df_validation.iloc[:,1:]\n",
        "y_validation = df_validation.iloc[:,0].ravel()"
      ]
    },
    {
      "cell_type": "code",
      "execution_count": null,
      "id": "8ff9b3a2",
      "metadata": {
        "id": "8ff9b3a2"
      },
      "outputs": [],
      "source": [
        "classifier = xgb.XGBClassifier(objective=\"multi:softmax\",\n",
        "                               num_class=3,\n",
        "                               n_estimators=100)"
      ]
    },
    {
      "cell_type": "code",
      "execution_count": null,
      "id": "4470f7ad",
      "metadata": {
        "id": "4470f7ad",
        "outputId": "33bc5c63-2dbf-45d4-cad5-d4cbce6dceb7"
      },
      "outputs": [
        {
          "name": "stdout",
          "output_type": "stream",
          "text": [
            "[0]\tvalidation_0-mlogloss:0.73876\tvalidation_1-mlogloss:0.74994\n",
            "Multiple eval metrics have been passed: 'validation_1-mlogloss' will be used for early stopping.\n",
            "\n",
            "Will train until validation_1-mlogloss hasn't improved in 10 rounds.\n",
            "[1]\tvalidation_0-mlogloss:0.52787\tvalidation_1-mlogloss:0.55401\n",
            "[2]\tvalidation_0-mlogloss:0.38960\tvalidation_1-mlogloss:0.42612\n",
            "[3]\tvalidation_0-mlogloss:0.29429\tvalidation_1-mlogloss:0.34328\n",
            "[4]\tvalidation_0-mlogloss:0.22736\tvalidation_1-mlogloss:0.29000\n",
            "[5]\tvalidation_0-mlogloss:0.17920\tvalidation_1-mlogloss:0.24961\n",
            "[6]\tvalidation_0-mlogloss:0.14403\tvalidation_1-mlogloss:0.22234\n",
            "[7]\tvalidation_0-mlogloss:0.11664\tvalidation_1-mlogloss:0.20338\n",
            "[8]\tvalidation_0-mlogloss:0.09668\tvalidation_1-mlogloss:0.18999\n",
            "[9]\tvalidation_0-mlogloss:0.08128\tvalidation_1-mlogloss:0.18190\n",
            "[10]\tvalidation_0-mlogloss:0.06783\tvalidation_1-mlogloss:0.17996\n",
            "[11]\tvalidation_0-mlogloss:0.05794\tvalidation_1-mlogloss:0.18029\n",
            "[12]\tvalidation_0-mlogloss:0.05011\tvalidation_1-mlogloss:0.18306\n",
            "[13]\tvalidation_0-mlogloss:0.04428\tvalidation_1-mlogloss:0.18471\n",
            "[14]\tvalidation_0-mlogloss:0.03993\tvalidation_1-mlogloss:0.18693\n",
            "[15]\tvalidation_0-mlogloss:0.03615\tvalidation_1-mlogloss:0.18553\n",
            "[16]\tvalidation_0-mlogloss:0.03310\tvalidation_1-mlogloss:0.18571\n",
            "[17]\tvalidation_0-mlogloss:0.03065\tvalidation_1-mlogloss:0.18615\n",
            "[18]\tvalidation_0-mlogloss:0.02874\tvalidation_1-mlogloss:0.18930\n",
            "[19]\tvalidation_0-mlogloss:0.02739\tvalidation_1-mlogloss:0.18989\n",
            "[20]\tvalidation_0-mlogloss:0.02639\tvalidation_1-mlogloss:0.19251\n",
            "Stopping. Best iteration:\n",
            "[10]\tvalidation_0-mlogloss:0.06783\tvalidation_1-mlogloss:0.17996\n",
            "\n"
          ]
        },
        {
          "data": {
            "text/plain": [
              "XGBClassifier(base_score=0.5, booster='gbtree', colsample_bylevel=1,\n",
              "              colsample_bynode=1, colsample_bytree=1, gamma=0, gpu_id=-1,\n",
              "              importance_type='gain', interaction_constraints='',\n",
              "              learning_rate=0.300000012, max_delta_step=0, max_depth=6,\n",
              "              min_child_weight=1, missing=nan, monotone_constraints='()',\n",
              "              n_estimators=100, n_jobs=0, num_class=3, num_parallel_tree=1,\n",
              "              objective='multi:softprob', random_state=0, reg_alpha=0,\n",
              "              reg_lambda=1, scale_pos_weight=None, subsample=1,\n",
              "              tree_method='exact', validate_parameters=1, verbosity=None)"
            ]
          },
          "execution_count": 9,
          "metadata": {},
          "output_type": "execute_result"
        }
      ],
      "source": [
        "classifier.fit(X_train,\n",
        "               y_train,\n",
        "               eval_set = [(X_train, y_train), (X_validation, y_validation)],\n",
        "               eval_metric=['mlogloss'],\n",
        "               early_stopping_rounds=10)"
      ]
    },
    {
      "cell_type": "code",
      "execution_count": null,
      "id": "0b97dc41",
      "metadata": {
        "id": "0b97dc41"
      },
      "outputs": [],
      "source": [
        "eval_result = classifier.evals_result()"
      ]
    },
    {
      "cell_type": "code",
      "execution_count": null,
      "id": "86f76d08",
      "metadata": {
        "id": "86f76d08"
      },
      "outputs": [],
      "source": [
        "df = pd.read_csv(validation_file,names=columns)"
      ]
    },
    {
      "cell_type": "code",
      "execution_count": null,
      "id": "199373ca",
      "metadata": {
        "id": "199373ca",
        "outputId": "0cdc38cd-c8ec-402d-b4d5-bc76e56f6349"
      },
      "outputs": [
        {
          "name": "stdout",
          "output_type": "stream",
          "text": [
            "   sepal_length  sepal_width  petal_length  petal_width\n",
            "0           5.8          2.7           4.1          1.0\n",
            "1           4.8          3.4           1.6          0.2\n",
            "2           6.0          2.2           4.0          1.0\n",
            "3           6.4          3.1           5.5          1.8\n",
            "4           6.7          2.5           5.8          1.8\n"
          ]
        }
      ],
      "source": [
        "X_test = df.iloc[:,1:]\n",
        "print(X_test[:5])"
      ]
    },
    {
      "cell_type": "code",
      "execution_count": null,
      "id": "de3644bd",
      "metadata": {
        "id": "de3644bd"
      },
      "outputs": [],
      "source": [
        "result = classifier.predict(X_test)"
      ]
    },
    {
      "cell_type": "code",
      "execution_count": null,
      "id": "083a98ae",
      "metadata": {
        "id": "083a98ae"
      },
      "outputs": [],
      "source": [
        "df['predicted_class'] = result"
      ]
    },
    {
      "cell_type": "code",
      "execution_count": null,
      "id": "6f370fbd",
      "metadata": {
        "id": "6f370fbd",
        "outputId": "63ae6361-e357-4eaa-c93b-bdacbfad06fb"
      },
      "outputs": [
        {
          "name": "stdout",
          "output_type": "stream",
          "text": [
            "                 precision    recall  f1-score   support\n",
            "\n",
            "    Iris-setosa       1.00      1.00      1.00        16\n",
            "Iris-versicolor       0.91      0.91      0.91        11\n",
            " Iris-virginica       0.94      0.94      0.94        18\n",
            "\n",
            "       accuracy                           0.96        45\n",
            "      macro avg       0.95      0.95      0.95        45\n",
            "   weighted avg       0.96      0.96      0.96        45\n",
            "\n"
          ]
        }
      ],
      "source": [
        "print(classification_report(\n",
        "    df['encoded_class'],\n",
        "    df['predicted_class'],\n",
        "    labels=labels,\n",
        "    target_names=classes))"
      ]
    },
    {
      "cell_type": "markdown",
      "source": [
        "<h1>XGBOOST USING THE CONTAINER</h1>"
      ],
      "metadata": {
        "id": "63bncjozMEFQ"
      },
      "id": "63bncjozMEFQ"
    },
    {
      "cell_type": "code",
      "execution_count": null,
      "id": "e5f5c3ba",
      "metadata": {
        "id": "e5f5c3ba"
      },
      "outputs": [],
      "source": [
        "import sagemaker\n",
        "import boto3\n",
        "from sagemaker import get_execution_role"
      ]
    },
    {
      "cell_type": "code",
      "execution_count": null,
      "id": "8c3e073b",
      "metadata": {
        "id": "8c3e073b"
      },
      "outputs": [],
      "source": [
        "region = boto3.Session().region_name\n",
        "session = sagemaker.Session()\n",
        "bucket = session.default_bucket()\n",
        "role = get_execution_role()\n",
        "sm = boto3.Session().client(service_name = 'sagemaker',region_name = region,\n",
        "                           )"
      ]
    },
    {
      "cell_type": "code",
      "execution_count": null,
      "id": "50c08e0d",
      "metadata": {
        "id": "50c08e0d"
      },
      "outputs": [],
      "source": [
        "prefix = 'iris'"
      ]
    },
    {
      "cell_type": "code",
      "execution_count": null,
      "id": "cb975ade",
      "metadata": {
        "id": "cb975ade"
      },
      "outputs": [],
      "source": [
        "bucket_name = bucket\n",
        "training_file_key = 'iris/iris_train.csv'\n",
        "validation_file_key = 'iris/iris_validation.csv'\n",
        "\n",
        "s3_model_output_location = r's3://{0}/iris/model'.format(bucket_name)\n",
        "s3_training_file_location = r's3://{0}/{1}'.format(bucket_name,training_file_key)\n",
        "s3_validation_file_location = r's3://{0}/{1}'.format(bucket_name,validation_file_key)"
      ]
    },
    {
      "cell_type": "code",
      "execution_count": null,
      "id": "26aa3e5b",
      "metadata": {
        "id": "26aa3e5b"
      },
      "outputs": [],
      "source": [
        "def write_to_s3(filename,key):\n",
        "        return session.upload_data(path=filename, key_prefix=key)"
      ]
    },
    {
      "cell_type": "code",
      "execution_count": null,
      "id": "2724c866",
      "metadata": {
        "id": "2724c866",
        "outputId": "2841a92c-ecae-40f8-fabf-ee72899e3350"
      },
      "outputs": [
        {
          "data": {
            "text/plain": [
              "'s3://sagemaker-us-west-1-313830654669/iris/iris_validation.csv'"
            ]
          },
          "execution_count": 15,
          "metadata": {},
          "output_type": "execute_result"
        }
      ],
      "source": [
        "write_to_s3('iris_train.csv','iris')\n",
        "write_to_s3('iris_validation.csv','iris')"
      ]
    },
    {
      "cell_type": "code",
      "execution_count": null,
      "id": "ac07aa99",
      "metadata": {
        "id": "ac07aa99",
        "outputId": "a96270ae-b1a1-4521-cb57-9f18ce08a9fd"
      },
      "outputs": [
        {
          "name": "stdout",
          "output_type": "stream",
          "text": [
            "Checkpoint uri: s3://sagemaker-us-west-1-313830654669/iris/checkpoints/xgboost-iris-v1\n"
          ]
        }
      ],
      "source": [
        "use_spot_instances = True\n",
        "max_run = 3600 # in seconds\n",
        "max_wait = 7200 if use_spot_instances else None # in seconds\n",
        "\n",
        "job_name = 'xgboost-iris-v1'\n",
        "\n",
        "checkpoint_s3_uri = None\n",
        "\n",
        "if use_spot_instances:\n",
        "    checkpoint_s3_uri = f's3://{bucket_name}/iris/checkpoints/{job_name}'\n",
        "    \n",
        "print (f'Checkpoint uri: {checkpoint_s3_uri}') "
      ]
    },
    {
      "cell_type": "code",
      "execution_count": null,
      "id": "e20323ac",
      "metadata": {
        "id": "e20323ac",
        "outputId": "1bc7593d-cb08-42ab-96ea-8f8f47851e2a"
      },
      "outputs": [
        {
          "name": "stdout",
          "output_type": "stream",
          "text": [
            "Using XGBoost Container 746614075791.dkr.ecr.us-west-1.amazonaws.com/sagemaker-xgboost:1.2-2\n"
          ]
        }
      ],
      "source": [
        "container = sagemaker.image_uris.retrieve(\"xgboost\",session.boto_region_name,version=\"1.2-2\")\n",
        "\n",
        "print (f'Using XGBoost Container {container}')"
      ]
    },
    {
      "cell_type": "code",
      "execution_count": null,
      "id": "d15dda0b",
      "metadata": {
        "id": "d15dda0b"
      },
      "outputs": [],
      "source": [
        "estimator = sagemaker.estimator.Estimator(\n",
        "    container,\n",
        "    role,\n",
        "    instance_count=1,\n",
        "    instance_type='ml.m5.xlarge',\n",
        "    output_path=s3_model_output_location,\n",
        "    sagemaker_session=session,\n",
        "    base_job_name = job_name,\n",
        "    use_spot_instances=use_spot_instances,\n",
        "    max_run=max_run,\n",
        "    max_wait=max_wait,\n",
        "    checkpoint_s3_uri=checkpoint_s3_uri)"
      ]
    },
    {
      "cell_type": "code",
      "execution_count": null,
      "id": "171abe18",
      "metadata": {
        "id": "171abe18"
      },
      "outputs": [],
      "source": [
        "estimator.set_hyperparameters(max_depth=5,\n",
        "                              objective=\"multi:softmax\",\n",
        "                              eval_metric=\"mlogloss\",\n",
        "                              num_class=3,\n",
        "                              num_round=100,\n",
        "                              early_stopping_rounds=10)"
      ]
    },
    {
      "cell_type": "code",
      "execution_count": null,
      "id": "cf91c8f8",
      "metadata": {
        "id": "cf91c8f8"
      },
      "outputs": [],
      "source": [
        "# content type can be libsvm or csv for XGBoost\n",
        "training_input_config = sagemaker.session.TrainingInput(\n",
        "    s3_data=s3_training_file_location,\n",
        "    content_type='csv',\n",
        "    s3_data_type='S3Prefix')\n",
        "\n",
        "validation_input_config = sagemaker.session.TrainingInput(\n",
        "    s3_data=s3_validation_file_location,\n",
        "    content_type='csv',\n",
        "    s3_data_type='S3Prefix'\n",
        ")\n",
        "\n",
        "data_channels = {'train': training_input_config, 'validation': validation_input_config}"
      ]
    },
    {
      "cell_type": "code",
      "execution_count": null,
      "id": "23711604",
      "metadata": {
        "id": "23711604",
        "outputId": "9f47ef14-4079-45f1-ed03-c9c4168580ec"
      },
      "outputs": [
        {
          "name": "stdout",
          "output_type": "stream",
          "text": [
            "2022-06-15 09:43:41 Starting - Starting the training job...\n",
            "2022-06-15 09:44:05 Starting - Preparing the instances for trainingProfilerReport-1655286221: InProgress\n",
            "............\n",
            "2022-06-15 09:46:05 Downloading - Downloading input data\n",
            "2022-06-15 09:46:05 Training - Downloading the training image......\n",
            "2022-06-15 09:47:06 Training - Training image download completed. Training in progress..\u001b[34m[2022-06-15 09:47:08.604 ip-10-0-150-244.us-west-1.compute.internal:1 INFO utils.py:27] RULE_JOB_STOP_SIGNAL_FILENAME: None\u001b[0m\n",
            "\u001b[34m[2022-06-15:09:47:08:INFO] Imported framework sagemaker_xgboost_container.training\u001b[0m\n",
            "\u001b[34m[2022-06-15:09:47:08:INFO] Failed to parse hyperparameter eval_metric value mlogloss to Json.\u001b[0m\n",
            "\u001b[34mReturning the value itself\u001b[0m\n",
            "\u001b[34m[2022-06-15:09:47:08:INFO] Failed to parse hyperparameter objective value multi:softmax to Json.\u001b[0m\n",
            "\u001b[34mReturning the value itself\u001b[0m\n",
            "\u001b[34m[2022-06-15:09:47:08:INFO] No GPUs detected (normal if no gpus installed)\u001b[0m\n",
            "\u001b[34m[2022-06-15:09:47:08:INFO] Running XGBoost Sagemaker in algorithm mode\u001b[0m\n",
            "\u001b[34m[2022-06-15:09:47:08:INFO] Determined delimiter of CSV input is ','\u001b[0m\n",
            "\u001b[34m[2022-06-15:09:47:08:INFO] Determined delimiter of CSV input is ','\u001b[0m\n",
            "\u001b[34m[2022-06-15:09:47:08:INFO] Determined delimiter of CSV input is ','\u001b[0m\n",
            "\u001b[34m[2022-06-15:09:47:08:INFO] Determined delimiter of CSV input is ','\u001b[0m\n",
            "\u001b[34m[2022-06-15:09:47:08:INFO] Single node training.\u001b[0m\n",
            "\u001b[34m[2022-06-15:09:47:08:INFO] Train matrix has 105 rows and 4 columns\u001b[0m\n",
            "\u001b[34m[2022-06-15:09:47:08:INFO] Validation matrix has 45 rows\u001b[0m\n",
            "\u001b[34m[0]#011train-mlogloss:0.73876#011validation-mlogloss:0.74994\u001b[0m\n",
            "\u001b[34m[1]#011train-mlogloss:0.52787#011validation-mlogloss:0.55401\u001b[0m\n",
            "\u001b[34m[2]#011train-mlogloss:0.38960#011validation-mlogloss:0.42612\u001b[0m\n",
            "\u001b[34m[3]#011train-mlogloss:0.29429#011validation-mlogloss:0.34328\u001b[0m\n",
            "\u001b[34m[4]#011train-mlogloss:0.22736#011validation-mlogloss:0.29000\u001b[0m\n",
            "\u001b[34m[5]#011train-mlogloss:0.17920#011validation-mlogloss:0.24961\u001b[0m\n",
            "\u001b[34m[6]#011train-mlogloss:0.14403#011validation-mlogloss:0.22234\u001b[0m\n",
            "\u001b[34m[7]#011train-mlogloss:0.11664#011validation-mlogloss:0.20338\u001b[0m\n",
            "\u001b[34m[8]#011train-mlogloss:0.09668#011validation-mlogloss:0.18999\u001b[0m\n",
            "\u001b[34m[9]#011train-mlogloss:0.08128#011validation-mlogloss:0.18190\u001b[0m\n",
            "\u001b[34m[10]#011train-mlogloss:0.06783#011validation-mlogloss:0.17996\u001b[0m\n",
            "\u001b[34m[11]#011train-mlogloss:0.05794#011validation-mlogloss:0.18029\u001b[0m\n",
            "\u001b[34m[12]#011train-mlogloss:0.05011#011validation-mlogloss:0.18306\u001b[0m\n",
            "\u001b[34m[13]#011train-mlogloss:0.04428#011validation-mlogloss:0.18471\u001b[0m\n",
            "\u001b[34m[14]#011train-mlogloss:0.03993#011validation-mlogloss:0.18693\u001b[0m\n",
            "\u001b[34m[15]#011train-mlogloss:0.03615#011validation-mlogloss:0.18553\u001b[0m\n",
            "\u001b[34m[16]#011train-mlogloss:0.03310#011validation-mlogloss:0.18571\u001b[0m\n",
            "\u001b[34m[17]#011train-mlogloss:0.03065#011validation-mlogloss:0.18615\u001b[0m\n",
            "\u001b[34m[18]#011train-mlogloss:0.02874#011validation-mlogloss:0.18930\u001b[0m\n",
            "\u001b[34m[19]#011train-mlogloss:0.02739#011validation-mlogloss:0.18989\u001b[0m\n",
            "\u001b[34m[20]#011train-mlogloss:0.02639#011validation-mlogloss:0.19251\u001b[0m\n",
            "\n",
            "2022-06-15 09:47:26 Uploading - Uploading generated training model\n",
            "2022-06-15 09:47:26 Completed - Training job completed\n",
            "Training seconds: 97\n",
            "Billable seconds: 28\n",
            "Managed Spot Training savings: 71.1%\n"
          ]
        }
      ],
      "source": [
        "estimator.fit(data_channels)"
      ]
    },
    {
      "cell_type": "markdown",
      "source": [
        "<h1>END POINT CREATION </h1>"
      ],
      "metadata": {
        "id": "gWcP7sB7MOJT"
      },
      "id": "gWcP7sB7MOJT"
    },
    {
      "cell_type": "code",
      "execution_count": null,
      "id": "b746cc53",
      "metadata": {
        "id": "b746cc53",
        "outputId": "f225c748-c39a-4bcc-c409-27cd9d4c3e9c"
      },
      "outputs": [
        {
          "name": "stdout",
          "output_type": "stream",
          "text": [
            "-----!"
          ]
        }
      ],
      "source": [
        "predictor = estimator.deploy(initial_instance_count=1,\n",
        "                             instance_type='ml.m5.xlarge',\n",
        "                             endpoint_name = job_name)"
      ]
    },
    {
      "cell_type": "code",
      "execution_count": null,
      "id": "a63c4c5d",
      "metadata": {
        "id": "a63c4c5d"
      },
      "outputs": [],
      "source": [
        "from sagemaker.serializers import CSVSerializer\n",
        "from sagemaker.deserializers import JSONDeserializer\n",
        "predictor.serializer = CSVSerializer()"
      ]
    },
    {
      "cell_type": "code",
      "execution_count": null,
      "id": "92fc5120",
      "metadata": {
        "id": "92fc5120"
      },
      "outputs": [],
      "source": [
        "df_all = pd.read_csv('iris_validation.csv',\n",
        "                     names=['encoded_class','sepal_length','sepal_width','petal_length','petal_width'])"
      ]
    },
    {
      "cell_type": "code",
      "execution_count": null,
      "id": "8aba301b",
      "metadata": {
        "id": "8aba301b"
      },
      "outputs": [],
      "source": [
        "arr_test = df_all[['sepal_length', 'sepal_width', 'petal_length','petal_width']].values"
      ]
    },
    {
      "cell_type": "code",
      "execution_count": null,
      "id": "acf45b8e",
      "metadata": {
        "id": "acf45b8e"
      },
      "outputs": [],
      "source": [
        "result = predictor.predict(arr_test[:2])"
      ]
    },
    {
      "cell_type": "code",
      "execution_count": null,
      "id": "6a045b39",
      "metadata": {
        "id": "6a045b39",
        "outputId": "f5741921-16bd-4741-efa8-f028013ff76e"
      },
      "outputs": [
        {
          "name": "stdout",
          "output_type": "stream",
          "text": [
            "(5, 4)\n",
            "['1.0', '0.0', '1.0', '2.0', '2.0']\n",
            "(5, 4)\n",
            "['2.0', '2.0', '0.0', '0.0', '2.0']\n",
            "(5, 4)\n",
            "['2.0', '0.0', '1.0', '0.0', '0.0']\n",
            "(5, 4)\n",
            "['2.0', '1.0', '2.0', '0.0', '2.0']\n",
            "(5, 4)\n",
            "['0.0', '2.0', '0.0', '1.0', '0.0']\n",
            "(4, 4)\n",
            "['2.0', '2.0', '0.0', '1.0']\n",
            "(4, 4)\n",
            "['2.0', '2.0', '1.0', '0.0']\n",
            "(4, 4)\n",
            "['1.0', '0.0', '0.0', '1.0']\n",
            "(4, 4)\n",
            "['2.0', '0.0', '2.0', '0.0']\n",
            "(4, 4)\n",
            "['1.0', '2.0', '2.0', '1.0']\n"
          ]
        }
      ],
      "source": [
        "predictions = []\n",
        "for arr in np.array_split(arr_test,10):\n",
        "    result = predictor.predict(arr)\n",
        "    result = result.decode(\"utf-8\")\n",
        "    result = result.split('\\n')\n",
        "    result = result[0:len(result)-1]\n",
        "    print (arr.shape)\n",
        "    print(result)\n",
        "    predictions+=[int(float(r)) for r in result]"
      ]
    },
    {
      "cell_type": "code",
      "execution_count": null,
      "id": "fd88282a",
      "metadata": {
        "id": "fd88282a",
        "outputId": "88095cce-ae50-42b8-a4e6-90d0c95c4f15"
      },
      "outputs": [
        {
          "data": {
            "text/plain": [
              "LabelEncoder()"
            ]
          },
          "execution_count": 28,
          "metadata": {},
          "output_type": "execute_result"
        }
      ],
      "source": [
        "from sklearn import preprocessing\n",
        "le = preprocessing.LabelEncoder()\n",
        "le.fit(['Iris-setosa', 'Iris-versicolor', 'Iris-virginica'])"
      ]
    },
    {
      "cell_type": "code",
      "execution_count": null,
      "id": "a68b9c2a",
      "metadata": {
        "id": "a68b9c2a"
      },
      "outputs": [],
      "source": [
        "df_all['class'] = le.inverse_transform(df_all.encoded_class)"
      ]
    },
    {
      "cell_type": "code",
      "execution_count": null,
      "id": "d9ad05f2",
      "metadata": {
        "id": "d9ad05f2"
      },
      "outputs": [],
      "source": [
        "df_all['predicted_class']=le.inverse_transform(predictions)"
      ]
    },
    {
      "cell_type": "code",
      "execution_count": null,
      "id": "9c9346d6",
      "metadata": {
        "id": "9c9346d6",
        "outputId": "ebedb61d-9620-4758-875a-b4a456e0a7b3"
      },
      "outputs": [
        {
          "name": "stdout",
          "output_type": "stream",
          "text": [
            "                 precision    recall  f1-score   support\n",
            "\n",
            "    Iris-setosa       1.00      1.00      1.00        16\n",
            "Iris-versicolor       0.91      0.91      0.91        11\n",
            " Iris-virginica       0.94      0.94      0.94        18\n",
            "\n",
            "       accuracy                           0.96        45\n",
            "      macro avg       0.95      0.95      0.95        45\n",
            "   weighted avg       0.96      0.96      0.96        45\n",
            "\n"
          ]
        }
      ],
      "source": [
        "import sklearn.metrics as metrics\n",
        "print(metrics.classification_report(df_all['class'], df_all['predicted_class']))"
      ]
    },
    {
      "cell_type": "code",
      "execution_count": null,
      "id": "2909d6e3",
      "metadata": {
        "id": "2909d6e3"
      },
      "outputs": [],
      "source": [
        "session.delete_endpoint(job_name)"
      ]
    },
    {
      "cell_type": "markdown",
      "source": [
        "<h1>BOTH MODELS YIELD ALMOST SAME RESULTS</h1>"
      ],
      "metadata": {
        "id": "7re32zTYMVAD"
      },
      "id": "7re32zTYMVAD"
    }
  ],
  "metadata": {
    "kernelspec": {
      "display_name": "conda_python3",
      "language": "python",
      "name": "conda_python3"
    },
    "language_info": {
      "codemirror_mode": {
        "name": "ipython",
        "version": 3
      },
      "file_extension": ".py",
      "mimetype": "text/x-python",
      "name": "python",
      "nbconvert_exporter": "python",
      "pygments_lexer": "ipython3",
      "version": "3.6.13"
    },
    "colab": {
      "name": "multi_AWS.ipynb",
      "provenance": [],
      "include_colab_link": true
    }
  },
  "nbformat": 4,
  "nbformat_minor": 5
}