{
  "nbformat": 4,
  "nbformat_minor": 0,
  "metadata": {
    "colab": {
      "name": "sol.ipynb",
      "provenance": [],
      "authorship_tag": "ABX9TyPNBdIBNhR/h6LwxXqkUose",
      "include_colab_link": true
    },
    "kernelspec": {
      "name": "python3",
      "display_name": "Python 3"
    },
    "language_info": {
      "name": "python"
    }
  },
  "cells": [
    {
      "cell_type": "markdown",
      "metadata": {
        "id": "view-in-github",
        "colab_type": "text"
      },
      "source": [
        "<a href=\"https://colab.research.google.com/github/SriNithin965/cognizant_internship/blob/main/sol.ipynb\" target=\"_parent\"><img src=\"https://colab.research.google.com/assets/colab-badge.svg\" alt=\"Open In Colab\"/></a>"
      ]
    },
    {
      "cell_type": "code",
      "execution_count": 14,
      "metadata": {
        "colab": {
          "base_uri": "https://localhost:8080/"
        },
        "id": "XtuQW4bdncPu",
        "outputId": "fdfdb9f4-3ed6-40a1-c0c8-cdcc063e197d"
      },
      "outputs": [
        {
          "output_type": "stream",
          "name": "stdout",
          "text": [
            "Writing truetable.py\n"
          ]
        }
      ],
      "source": [
        "%%writefile truetable.py\n",
        "n =int(input())\n",
        "l = []\n",
        "for i in range(2**n):\n",
        "  a=[]\n",
        "  for j in range(n):\n",
        "    a.append(i//2**j%2)\n",
        "  l.append(a)\n",
        "print(l)\n"
      ]
    }
  ]
}