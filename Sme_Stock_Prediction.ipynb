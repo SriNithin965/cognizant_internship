{
  "nbformat": 4,
  "nbformat_minor": 0,
  "metadata": {
    "colab": {
      "name": "Sme-Stock-Prediction.ipynb",
      "provenance": [],
      "authorship_tag": "ABX9TyPfG8Acb621uixd/mwmVMKj",
      "include_colab_link": true
    },
    "kernelspec": {
      "name": "python3",
      "display_name": "Python 3"
    },
    "language_info": {
      "name": "python"
    }
  },
  "cells": [
    {
      "cell_type": "markdown",
      "metadata": {
        "id": "view-in-github",
        "colab_type": "text"
      },
      "source": [
        "<a href=\"https://colab.research.google.com/github/SriNithin965/cognizant_internship/blob/main/Sme_Stock_Prediction.ipynb\" target=\"_parent\"><img src=\"https://colab.research.google.com/assets/colab-badge.svg\" alt=\"Open In Colab\"/></a>"
      ]
    },
    {
      "cell_type": "markdown",
      "source": [
        "Loading the packages"
      ],
      "metadata": {
        "id": "6lMQqLvx-0Tt"
      }
    },
    {
      "cell_type": "code",
      "execution_count": 48,
      "metadata": {
        "id": "DclbfZHQ-o1_"
      },
      "outputs": [],
      "source": [
        "import pandas as pd\n",
        "import numpy as np\n",
        "import matplotlib.pyplot as plt"
      ]
    },
    {
      "cell_type": "markdown",
      "source": [
        "Loading the dataset"
      ],
      "metadata": {
        "id": "UrxEzEUbAQWI"
      }
    },
    {
      "cell_type": "code",
      "source": [
        "data = pd.read_csv('https://raw.githubusercontent.com/SriNithin965/cognizant_internship/main/AAPL.csv')"
      ],
      "metadata": {
        "id": "mm0IrTp3APiV"
      },
      "execution_count": 49,
      "outputs": []
    },
    {
      "cell_type": "code",
      "source": [
        "data.head(10)"
      ],
      "metadata": {
        "colab": {
          "base_uri": "https://localhost:8080/",
          "height": 363
        },
        "id": "THwYIN9lAO70",
        "outputId": "2e6f1a79-eb99-4ff7-b4fd-b5069efa2c05"
      },
      "execution_count": 73,
      "outputs": [
        {
          "output_type": "execute_result",
          "data": {
            "text/plain": [
              "       Open\n",
              "0  6.473214\n",
              "1  6.433571\n",
              "2  6.117857\n",
              "3  6.342143\n",
              "4  6.285714\n",
              "5  6.340000\n",
              "6  6.347143\n",
              "7  5.901071\n",
              "8  5.768214\n",
              "9  5.775357"
            ],
            "text/html": [
              "\n",
              "  <div id=\"df-5fb16178-fcbb-4100-bf87-e7978681a2ce\">\n",
              "    <div class=\"colab-df-container\">\n",
              "      <div>\n",
              "<style scoped>\n",
              "    .dataframe tbody tr th:only-of-type {\n",
              "        vertical-align: middle;\n",
              "    }\n",
              "\n",
              "    .dataframe tbody tr th {\n",
              "        vertical-align: top;\n",
              "    }\n",
              "\n",
              "    .dataframe thead th {\n",
              "        text-align: right;\n",
              "    }\n",
              "</style>\n",
              "<table border=\"1\" class=\"dataframe\">\n",
              "  <thead>\n",
              "    <tr style=\"text-align: right;\">\n",
              "      <th></th>\n",
              "      <th>Open</th>\n",
              "    </tr>\n",
              "  </thead>\n",
              "  <tbody>\n",
              "    <tr>\n",
              "      <th>0</th>\n",
              "      <td>6.473214</td>\n",
              "    </tr>\n",
              "    <tr>\n",
              "      <th>1</th>\n",
              "      <td>6.433571</td>\n",
              "    </tr>\n",
              "    <tr>\n",
              "      <th>2</th>\n",
              "      <td>6.117857</td>\n",
              "    </tr>\n",
              "    <tr>\n",
              "      <th>3</th>\n",
              "      <td>6.342143</td>\n",
              "    </tr>\n",
              "    <tr>\n",
              "      <th>4</th>\n",
              "      <td>6.285714</td>\n",
              "    </tr>\n",
              "    <tr>\n",
              "      <th>5</th>\n",
              "      <td>6.340000</td>\n",
              "    </tr>\n",
              "    <tr>\n",
              "      <th>6</th>\n",
              "      <td>6.347143</td>\n",
              "    </tr>\n",
              "    <tr>\n",
              "      <th>7</th>\n",
              "      <td>5.901071</td>\n",
              "    </tr>\n",
              "    <tr>\n",
              "      <th>8</th>\n",
              "      <td>5.768214</td>\n",
              "    </tr>\n",
              "    <tr>\n",
              "      <th>9</th>\n",
              "      <td>5.775357</td>\n",
              "    </tr>\n",
              "  </tbody>\n",
              "</table>\n",
              "</div>\n",
              "      <button class=\"colab-df-convert\" onclick=\"convertToInteractive('df-5fb16178-fcbb-4100-bf87-e7978681a2ce')\"\n",
              "              title=\"Convert this dataframe to an interactive table.\"\n",
              "              style=\"display:none;\">\n",
              "        \n",
              "  <svg xmlns=\"http://www.w3.org/2000/svg\" height=\"24px\"viewBox=\"0 0 24 24\"\n",
              "       width=\"24px\">\n",
              "    <path d=\"M0 0h24v24H0V0z\" fill=\"none\"/>\n",
              "    <path d=\"M18.56 5.44l.94 2.06.94-2.06 2.06-.94-2.06-.94-.94-2.06-.94 2.06-2.06.94zm-11 1L8.5 8.5l.94-2.06 2.06-.94-2.06-.94L8.5 2.5l-.94 2.06-2.06.94zm10 10l.94 2.06.94-2.06 2.06-.94-2.06-.94-.94-2.06-.94 2.06-2.06.94z\"/><path d=\"M17.41 7.96l-1.37-1.37c-.4-.4-.92-.59-1.43-.59-.52 0-1.04.2-1.43.59L10.3 9.45l-7.72 7.72c-.78.78-.78 2.05 0 2.83L4 21.41c.39.39.9.59 1.41.59.51 0 1.02-.2 1.41-.59l7.78-7.78 2.81-2.81c.8-.78.8-2.07 0-2.86zM5.41 20L4 18.59l7.72-7.72 1.47 1.35L5.41 20z\"/>\n",
              "  </svg>\n",
              "      </button>\n",
              "      \n",
              "  <style>\n",
              "    .colab-df-container {\n",
              "      display:flex;\n",
              "      flex-wrap:wrap;\n",
              "      gap: 12px;\n",
              "    }\n",
              "\n",
              "    .colab-df-convert {\n",
              "      background-color: #E8F0FE;\n",
              "      border: none;\n",
              "      border-radius: 50%;\n",
              "      cursor: pointer;\n",
              "      display: none;\n",
              "      fill: #1967D2;\n",
              "      height: 32px;\n",
              "      padding: 0 0 0 0;\n",
              "      width: 32px;\n",
              "    }\n",
              "\n",
              "    .colab-df-convert:hover {\n",
              "      background-color: #E2EBFA;\n",
              "      box-shadow: 0px 1px 2px rgba(60, 64, 67, 0.3), 0px 1px 3px 1px rgba(60, 64, 67, 0.15);\n",
              "      fill: #174EA6;\n",
              "    }\n",
              "\n",
              "    [theme=dark] .colab-df-convert {\n",
              "      background-color: #3B4455;\n",
              "      fill: #D2E3FC;\n",
              "    }\n",
              "\n",
              "    [theme=dark] .colab-df-convert:hover {\n",
              "      background-color: #434B5C;\n",
              "      box-shadow: 0px 1px 3px 1px rgba(0, 0, 0, 0.15);\n",
              "      filter: drop-shadow(0px 1px 2px rgba(0, 0, 0, 0.3));\n",
              "      fill: #FFFFFF;\n",
              "    }\n",
              "  </style>\n",
              "\n",
              "      <script>\n",
              "        const buttonEl =\n",
              "          document.querySelector('#df-5fb16178-fcbb-4100-bf87-e7978681a2ce button.colab-df-convert');\n",
              "        buttonEl.style.display =\n",
              "          google.colab.kernel.accessAllowed ? 'block' : 'none';\n",
              "\n",
              "        async function convertToInteractive(key) {\n",
              "          const element = document.querySelector('#df-5fb16178-fcbb-4100-bf87-e7978681a2ce');\n",
              "          const dataTable =\n",
              "            await google.colab.kernel.invokeFunction('convertToInteractive',\n",
              "                                                     [key], {});\n",
              "          if (!dataTable) return;\n",
              "\n",
              "          const docLinkHtml = 'Like what you see? Visit the ' +\n",
              "            '<a target=\"_blank\" href=https://colab.research.google.com/notebooks/data_table.ipynb>data table notebook</a>'\n",
              "            + ' to learn more about interactive tables.';\n",
              "          element.innerHTML = '';\n",
              "          dataTable['output_type'] = 'display_data';\n",
              "          await google.colab.output.renderOutput(dataTable, element);\n",
              "          const docLink = document.createElement('div');\n",
              "          docLink.innerHTML = docLinkHtml;\n",
              "          element.appendChild(docLink);\n",
              "        }\n",
              "      </script>\n",
              "    </div>\n",
              "  </div>\n",
              "  "
            ]
          },
          "metadata": {},
          "execution_count": 73
        }
      ]
    },
    {
      "cell_type": "code",
      "source": [
        "data.dtypes"
      ],
      "metadata": {
        "colab": {
          "base_uri": "https://localhost:8080/"
        },
        "id": "Ntq2sr5_Anyo",
        "outputId": "3fec8306-dcc4-4e71-d3e3-0602b688758e"
      },
      "execution_count": 51,
      "outputs": [
        {
          "output_type": "execute_result",
          "data": {
            "text/plain": [
              "Date          object\n",
              "Open         float64\n",
              "High         float64\n",
              "Low          float64\n",
              "Close        float64\n",
              "Adj Close    float64\n",
              "Volume         int64\n",
              "dtype: object"
            ]
          },
          "metadata": {},
          "execution_count": 51
        }
      ]
    },
    {
      "cell_type": "markdown",
      "source": [
        "changing the data type of date column"
      ],
      "metadata": {
        "id": "Chpax4YiBtO-"
      }
    },
    {
      "cell_type": "code",
      "source": [
        "data['Date'] = pd.to_datetime(data['Date'])\n",
        "data.dtypes"
      ],
      "metadata": {
        "colab": {
          "base_uri": "https://localhost:8080/"
        },
        "id": "Ifq7MxK4A74L",
        "outputId": "592c5887-5125-47e0-a47c-f3a59c7bda86"
      },
      "execution_count": 52,
      "outputs": [
        {
          "output_type": "execute_result",
          "data": {
            "text/plain": [
              "Date         datetime64[ns]\n",
              "Open                float64\n",
              "High                float64\n",
              "Low                 float64\n",
              "Close               float64\n",
              "Adj Close           float64\n",
              "Volume                int64\n",
              "dtype: object"
            ]
          },
          "metadata": {},
          "execution_count": 52
        }
      ]
    },
    {
      "cell_type": "markdown",
      "source": [
        "Visualization"
      ],
      "metadata": {
        "id": "UygUJ-m5D-Nr"
      }
    },
    {
      "cell_type": "code",
      "source": [
        "plt.figure(figsize=(10,10))\n",
        "plt.subplot(2, 2, 1)\n",
        "plt.title('Open')\n",
        "plt.plot(data['Date'],data['Open'])\n",
        "plt.subplot(2, 2, 2)\n",
        "plt.title('Close')\n",
        "plt.plot(data['Date'],data['Close'])\n",
        "plt.subplot(2, 2, 3)\n",
        "plt.title('High')\n",
        "plt.plot(data['Date'],data['High'])\n",
        "plt.subplot(2, 2, 4)\n",
        "plt.title('Low')\n",
        "plt.plot(data['Date'],data['Low'])\n",
        "plt.show()"
      ],
      "metadata": {
        "colab": {
          "base_uri": "https://localhost:8080/",
          "height": 607
        },
        "id": "59cApoZXBoAe",
        "outputId": "941f0f57-763c-4340-c26b-09d019048704"
      },
      "execution_count": 53,
      "outputs": [
        {
          "output_type": "display_data",
          "data": {
            "text/plain": [
              "<Figure size 720x720 with 4 Axes>"
            ],
            "image/png": "[encoded data removed]"
          },
          "metadata": {
            "needs_background": "light"
          }
        }
      ]
    },
    {
      "cell_type": "code",
      "source": [
        "data = data[['Open']]\n",
        "data.head(10)"
      ],
      "metadata": {
        "colab": {
          "base_uri": "https://localhost:8080/",
          "height": 363
        },
        "id": "N5dg3ESKECpY",
        "outputId": "46ef05ba-cfc8-46b9-9c27-d8c593d9e765"
      },
      "execution_count": 79,
      "outputs": [
        {
          "output_type": "execute_result",
          "data": {
            "text/plain": [
              "       Open\n",
              "0  6.473214\n",
              "1  6.433571\n",
              "2  6.117857\n",
              "3  6.342143\n",
              "4  6.285714\n",
              "5  6.340000\n",
              "6  6.347143\n",
              "7  5.901071\n",
              "8  5.768214\n",
              "9  5.775357"
            ],
            "text/html": [
              "\n",
              "  <div id=\"df-952204e6-5d82-4ae5-8962-1c4757b62ee2\">\n",
              "    <div class=\"colab-df-container\">\n",
              "      <div>\n",
              "<style scoped>\n",
              "    .dataframe tbody tr th:only-of-type {\n",
              "        vertical-align: middle;\n",
              "    }\n",
              "\n",
              "    .dataframe tbody tr th {\n",
              "        vertical-align: top;\n",
              "    }\n",
              "\n",
              "    .dataframe thead th {\n",
              "        text-align: right;\n",
              "    }\n",
              "</style>\n",
              "<table border=\"1\" class=\"dataframe\">\n",
              "  <thead>\n",
              "    <tr style=\"text-align: right;\">\n",
              "      <th></th>\n",
              "      <th>Open</th>\n",
              "    </tr>\n",
              "  </thead>\n",
              "  <tbody>\n",
              "    <tr>\n",
              "      <th>0</th>\n",
              "      <td>6.473214</td>\n",
              "    </tr>\n",
              "    <tr>\n",
              "      <th>1</th>\n",
              "      <td>6.433571</td>\n",
              "    </tr>\n",
              "    <tr>\n",
              "      <th>2</th>\n",
              "      <td>6.117857</td>\n",
              "    </tr>\n",
              "    <tr>\n",
              "      <th>3</th>\n",
              "      <td>6.342143</td>\n",
              "    </tr>\n",
              "    <tr>\n",
              "      <th>4</th>\n",
              "      <td>6.285714</td>\n",
              "    </tr>\n",
              "    <tr>\n",
              "      <th>5</th>\n",
              "      <td>6.340000</td>\n",
              "    </tr>\n",
              "    <tr>\n",
              "      <th>6</th>\n",
              "      <td>6.347143</td>\n",
              "    </tr>\n",
              "    <tr>\n",
              "      <th>7</th>\n",
              "      <td>5.901071</td>\n",
              "    </tr>\n",
              "    <tr>\n",
              "      <th>8</th>\n",
              "      <td>5.768214</td>\n",
              "    </tr>\n",
              "    <tr>\n",
              "      <th>9</th>\n",
              "      <td>5.775357</td>\n",
              "    </tr>\n",
              "  </tbody>\n",
              "</table>\n",
              "</div>\n",
              "      <button class=\"colab-df-convert\" onclick=\"convertToInteractive('df-952204e6-5d82-4ae5-8962-1c4757b62ee2')\"\n",
              "              title=\"Convert this dataframe to an interactive table.\"\n",
              "              style=\"display:none;\">\n",
              "        \n",
              "  <svg xmlns=\"http://www.w3.org/2000/svg\" height=\"24px\"viewBox=\"0 0 24 24\"\n",
              "       width=\"24px\">\n",
              "    <path d=\"M0 0h24v24H0V0z\" fill=\"none\"/>\n",
              "    <path d=\"M18.56 5.44l.94 2.06.94-2.06 2.06-.94-2.06-.94-.94-2.06-.94 2.06-2.06.94zm-11 1L8.5 8.5l.94-2.06 2.06-.94-2.06-.94L8.5 2.5l-.94 2.06-2.06.94zm10 10l.94 2.06.94-2.06 2.06-.94-2.06-.94-.94-2.06-.94 2.06-2.06.94z\"/><path d=\"M17.41 7.96l-1.37-1.37c-.4-.4-.92-.59-1.43-.59-.52 0-1.04.2-1.43.59L10.3 9.45l-7.72 7.72c-.78.78-.78 2.05 0 2.83L4 21.41c.39.39.9.59 1.41.59.51 0 1.02-.2 1.41-.59l7.78-7.78 2.81-2.81c.8-.78.8-2.07 0-2.86zM5.41 20L4 18.59l7.72-7.72 1.47 1.35L5.41 20z\"/>\n",
              "  </svg>\n",
              "      </button>\n",
              "      \n",
              "  <style>\n",
              "    .colab-df-container {\n",
              "      display:flex;\n",
              "      flex-wrap:wrap;\n",
              "      gap: 12px;\n",
              "    }\n",
              "\n",
              "    .colab-df-convert {\n",
              "      background-color: #E8F0FE;\n",
              "      border: none;\n",
              "      border-radius: 50%;\n",
              "      cursor: pointer;\n",
              "      display: none;\n",
              "      fill: #1967D2;\n",
              "      height: 32px;\n",
              "      padding: 0 0 0 0;\n",
              "      width: 32px;\n",
              "    }\n",
              "\n",
              "    .colab-df-convert:hover {\n",
              "      background-color: #E2EBFA;\n",
              "      box-shadow: 0px 1px 2px rgba(60, 64, 67, 0.3), 0px 1px 3px 1px rgba(60, 64, 67, 0.15);\n",
              "      fill: #174EA6;\n",
              "    }\n",
              "\n",
              "    [theme=dark] .colab-df-convert {\n",
              "      background-color: #3B4455;\n",
              "      fill: #D2E3FC;\n",
              "    }\n",
              "\n",
              "    [theme=dark] .colab-df-convert:hover {\n",
              "      background-color: #434B5C;\n",
              "      box-shadow: 0px 1px 3px 1px rgba(0, 0, 0, 0.15);\n",
              "      filter: drop-shadow(0px 1px 2px rgba(0, 0, 0, 0.3));\n",
              "      fill: #FFFFFF;\n",
              "    }\n",
              "  </style>\n",
              "\n",
              "      <script>\n",
              "        const buttonEl =\n",
              "          document.querySelector('#df-952204e6-5d82-4ae5-8962-1c4757b62ee2 button.colab-df-convert');\n",
              "        buttonEl.style.display =\n",
              "          google.colab.kernel.accessAllowed ? 'block' : 'none';\n",
              "\n",
              "        async function convertToInteractive(key) {\n",
              "          const element = document.querySelector('#df-952204e6-5d82-4ae5-8962-1c4757b62ee2');\n",
              "          const dataTable =\n",
              "            await google.colab.kernel.invokeFunction('convertToInteractive',\n",
              "                                                     [key], {});\n",
              "          if (!dataTable) return;\n",
              "\n",
              "          const docLinkHtml = 'Like what you see? Visit the ' +\n",
              "            '<a target=\"_blank\" href=https://colab.research.google.com/notebooks/data_table.ipynb>data table notebook</a>'\n",
              "            + ' to learn more about interactive tables.';\n",
              "          element.innerHTML = '';\n",
              "          dataTable['output_type'] = 'display_data';\n",
              "          await google.colab.output.renderOutput(dataTable, element);\n",
              "          const docLink = document.createElement('div');\n",
              "          docLink.innerHTML = docLinkHtml;\n",
              "          element.appendChild(docLink);\n",
              "        }\n",
              "      </script>\n",
              "    </div>\n",
              "  </div>\n",
              "  "
            ]
          },
          "metadata": {},
          "execution_count": 79
        }
      ]
    },
    {
      "cell_type": "code",
      "source": [
        "len(data)"
      ],
      "metadata": {
        "colab": {
          "base_uri": "https://localhost:8080/"
        },
        "id": "hF1aK3okF211",
        "outputId": "c777942d-21f5-4ad0-91e5-1385b440d5ba"
      },
      "execution_count": 80,
      "outputs": [
        {
          "output_type": "execute_result",
          "data": {
            "text/plain": [
              "3650"
            ]
          },
          "metadata": {},
          "execution_count": 80
        }
      ]
    },
    {
      "cell_type": "code",
      "source": [
        "training_size=int(len(data)*0.80)\n",
        "test_size=len(data)-training_size\n",
        "train_data,test_data=data[0:training_size],data[training_size:len(data)]"
      ],
      "metadata": {
        "id": "LnOvFdy2MBfM"
      },
      "execution_count": 81,
      "outputs": []
    },
    {
      "cell_type": "code",
      "source": [
        "len(train_data),len(test_data)"
      ],
      "metadata": {
        "colab": {
          "base_uri": "https://localhost:8080/"
        },
        "id": "Yw8ZQ8XhM7ON",
        "outputId": "cc8c3849-fc7b-4745-b65b-0a7fbab078e4"
      },
      "execution_count": 82,
      "outputs": [
        {
          "output_type": "execute_result",
          "data": {
            "text/plain": [
              "(2920, 730)"
            ]
          },
          "metadata": {},
          "execution_count": 82
        }
      ]
    },
    {
      "cell_type": "code",
      "source": [
        "from sklearn.preprocessing import MinMaxScaler\n",
        "scaler=MinMaxScaler(feature_range=(0,1))\n",
        "data_trans_train=scaler.fit_transform(np.array(train_data).reshape(-1,1))\n",
        "data_trans_test=scaler.fit_transform(np.array(test_data).reshape(-1,1))\n",
        "data_trans_train\n",
        "data_trans_test"
      ],
      "metadata": {
        "id": "3XQPtknaE4Es"
      },
      "execution_count": null,
      "outputs": []
    },
    {
      "cell_type": "code",
      "source": [
        "def prepare_data(timeseries_data, n_features):\n",
        "\tX, y =[],[]\n",
        "\tfor i in range(len(timeseries_data)):\n",
        "\t\tend_ix = i + n_features\n",
        "\t\tif end_ix > len(timeseries_data)-1:\n",
        "\t\t\tbreak\n",
        "\t\tseq_x, seq_y = timeseries_data[i:end_ix], timeseries_data[end_ix]\n",
        "\t\tX.append(seq_x)\n",
        "\t\ty.append(seq_y)\n",
        "\treturn np.array(X), np.array(y)"
      ],
      "metadata": {
        "id": "pKWOfngoF6mk"
      },
      "execution_count": 84,
      "outputs": []
    },
    {
      "cell_type": "code",
      "source": [
        "window_size = 5\n",
        "n_features = 1\n",
        "X_train,y_train = prepare_data(data_trans_train,window_size)\n",
        "X_test,y_test = prepare_data(data_trans_test,window_size)"
      ],
      "metadata": {
        "id": "IIyneXlDGaoo"
      },
      "execution_count": 85,
      "outputs": []
    },
    {
      "cell_type": "code",
      "source": [
        "X_train = X_train.reshape((X_train.shape[0], X_train.shape[1], n_features))\n",
        "X_test = X_test.reshape((X_test.shape[0], X_test.shape[1], n_features))"
      ],
      "metadata": {
        "id": "SJ2GY0PWHQrQ"
      },
      "execution_count": 86,
      "outputs": []
    },
    {
      "cell_type": "code",
      "source": [
        "print(X_train.shape)\n",
        "print(X_test.shape)"
      ],
      "metadata": {
        "colab": {
          "base_uri": "https://localhost:8080/"
        },
        "id": "3epZg5IHH6kg",
        "outputId": "c741ea75-1a5b-4daf-bc4d-7fad408ff01e"
      },
      "execution_count": 88,
      "outputs": [
        {
          "output_type": "stream",
          "name": "stdout",
          "text": [
            "(2915, 5, 1)\n",
            "(725, 5, 1)\n"
          ]
        }
      ]
    },
    {
      "cell_type": "code",
      "source": [
        "from tensorflow.keras.models import Sequential\n",
        "from tensorflow.keras.layers import LSTM\n",
        "from tensorflow.keras.layers import Dense\n",
        "from tensorflow.keras.layers import Flatten"
      ],
      "metadata": {
        "id": "B-9sGyvIHVR4"
      },
      "execution_count": 89,
      "outputs": []
    },
    {
      "cell_type": "code",
      "source": [
        "model = Sequential()\n",
        "model.add(LSTM(50, activation='relu', return_sequences=True, input_shape=(window_size, n_features)))\n",
        "model.add(LSTM(50, activation='relu'))\n",
        "model.add(Dense(1))\n",
        "model.compile(optimizer='adam', loss='mse')\n",
        "# fit model\n",
        "model.fit(X_train, y_train, epochs=100, verbose=1)"
      ],
      "metadata": {
        "colab": {
          "base_uri": "https://localhost:8080/"
        },
        "id": "bb6nn77iHYd3",
        "outputId": "8a11d362-1b63-413f-9857-482c28396c59"
      },
      "execution_count": 90,
      "outputs": [
        {
          "output_type": "stream",
          "name": "stdout",
          "text": [
            "Epoch 1/100\n",
            "92/92 [==============================] - 3s 7ms/step - loss: 0.0433\n",
            "Epoch 2/100\n",
            "92/92 [==============================] - 1s 7ms/step - loss: 1.9536e-04\n",
            "Epoch 3/100\n",
            "92/92 [==============================] - 1s 7ms/step - loss: 1.8382e-04\n",
            "Epoch 4/100\n",
            "92/92 [==============================] - 1s 8ms/step - loss: 1.6603e-04\n",
            "Epoch 5/100\n",
            "92/92 [==============================] - 1s 8ms/step - loss: 1.8100e-04\n",
            "Epoch 6/100\n",
            "92/92 [==============================] - 1s 8ms/step - loss: 1.7384e-04\n",
            "Epoch 7/100\n",
            "92/92 [==============================] - 1s 8ms/step - loss: 1.7225e-04\n",
            "Epoch 8/100\n",
            "92/92 [==============================] - 1s 8ms/step - loss: 1.7223e-04\n",
            "Epoch 9/100\n",
            "92/92 [==============================] - 1s 7ms/step - loss: 1.8497e-04\n",
            "Epoch 10/100\n",
            "92/92 [==============================] - 1s 7ms/step - loss: 1.7012e-04\n",
            "Epoch 11/100\n",
            "92/92 [==============================] - 1s 7ms/step - loss: 1.7099e-04\n",
            "Epoch 12/100\n",
            "92/92 [==============================] - 1s 7ms/step - loss: 1.8605e-04\n",
            "Epoch 13/100\n",
            "92/92 [==============================] - 1s 8ms/step - loss: 1.7733e-04\n",
            "Epoch 14/100\n",
            "92/92 [==============================] - 1s 8ms/step - loss: 1.6772e-04\n",
            "Epoch 15/100\n",
            "92/92 [==============================] - 1s 8ms/step - loss: 1.7377e-04\n",
            "Epoch 16/100\n",
            "92/92 [==============================] - 1s 8ms/step - loss: 1.6277e-04\n",
            "Epoch 17/100\n",
            "92/92 [==============================] - 1s 8ms/step - loss: 1.6752e-04\n",
            "Epoch 18/100\n",
            "92/92 [==============================] - 1s 8ms/step - loss: 1.5971e-04\n",
            "Epoch 19/100\n",
            "92/92 [==============================] - 1s 8ms/step - loss: 2.2787e-04\n",
            "Epoch 20/100\n",
            "92/92 [==============================] - 1s 8ms/step - loss: 1.8408e-04\n",
            "Epoch 21/100\n",
            "92/92 [==============================] - 1s 7ms/step - loss: 1.8339e-04\n",
            "Epoch 22/100\n",
            "92/92 [==============================] - 1s 7ms/step - loss: 1.5921e-04\n",
            "Epoch 23/100\n",
            "92/92 [==============================] - 1s 12ms/step - loss: 1.6528e-04\n",
            "Epoch 24/100\n",
            "92/92 [==============================] - 1s 13ms/step - loss: 1.7009e-04\n",
            "Epoch 25/100\n",
            "92/92 [==============================] - 1s 13ms/step - loss: 1.6209e-04\n",
            "Epoch 26/100\n",
            "92/92 [==============================] - 1s 13ms/step - loss: 1.7644e-04\n",
            "Epoch 27/100\n",
            "92/92 [==============================] - 1s 13ms/step - loss: 1.6444e-04\n",
            "Epoch 28/100\n",
            "92/92 [==============================] - 1s 12ms/step - loss: 1.6863e-04\n",
            "Epoch 29/100\n",
            "92/92 [==============================] - 1s 12ms/step - loss: 1.5476e-04\n",
            "Epoch 30/100\n",
            "92/92 [==============================] - 1s 13ms/step - loss: 1.6447e-04\n",
            "Epoch 31/100\n",
            "92/92 [==============================] - 1s 11ms/step - loss: 1.5753e-04\n",
            "Epoch 32/100\n",
            "92/92 [==============================] - 1s 13ms/step - loss: 1.5188e-04\n",
            "Epoch 33/100\n",
            "92/92 [==============================] - 1s 14ms/step - loss: 1.5233e-04\n",
            "Epoch 34/100\n",
            "92/92 [==============================] - 1s 15ms/step - loss: 1.5667e-04\n",
            "Epoch 35/100\n",
            "92/92 [==============================] - 1s 13ms/step - loss: 1.6439e-04\n",
            "Epoch 36/100\n",
            "92/92 [==============================] - 1s 12ms/step - loss: 1.6092e-04\n",
            "Epoch 37/100\n",
            "92/92 [==============================] - 1s 12ms/step - loss: 1.4853e-04\n",
            "Epoch 38/100\n",
            "92/92 [==============================] - 1s 13ms/step - loss: 1.7537e-04\n",
            "Epoch 39/100\n",
            "92/92 [==============================] - 1s 11ms/step - loss: 1.6306e-04\n",
            "Epoch 40/100\n",
            "92/92 [==============================] - 1s 13ms/step - loss: 1.7985e-04\n",
            "Epoch 41/100\n",
            "92/92 [==============================] - 1s 12ms/step - loss: 1.6526e-04\n",
            "Epoch 42/100\n",
            "92/92 [==============================] - 1s 12ms/step - loss: 1.8325e-04\n",
            "Epoch 43/100\n",
            "92/92 [==============================] - 1s 13ms/step - loss: 1.5539e-04\n",
            "Epoch 44/100\n",
            "92/92 [==============================] - 1s 8ms/step - loss: 1.6668e-04\n",
            "Epoch 45/100\n",
            "92/92 [==============================] - 1s 7ms/step - loss: 1.3943e-04\n",
            "Epoch 46/100\n",
            "92/92 [==============================] - 1s 7ms/step - loss: 1.4257e-04\n",
            "Epoch 47/100\n",
            "92/92 [==============================] - 1s 7ms/step - loss: 1.4277e-04\n",
            "Epoch 48/100\n",
            "92/92 [==============================] - 1s 7ms/step - loss: 1.6620e-04\n",
            "Epoch 49/100\n",
            "92/92 [==============================] - 1s 7ms/step - loss: 1.3417e-04\n",
            "Epoch 50/100\n",
            "92/92 [==============================] - 1s 7ms/step - loss: 1.6311e-04\n",
            "Epoch 51/100\n",
            "92/92 [==============================] - 1s 7ms/step - loss: 1.3507e-04\n",
            "Epoch 52/100\n",
            "92/92 [==============================] - 1s 7ms/step - loss: 1.3768e-04\n",
            "Epoch 53/100\n",
            "92/92 [==============================] - 1s 7ms/step - loss: 1.3271e-04\n",
            "Epoch 54/100\n",
            "92/92 [==============================] - 1s 7ms/step - loss: 1.3172e-04\n",
            "Epoch 55/100\n",
            "92/92 [==============================] - 1s 7ms/step - loss: 1.3635e-04\n",
            "Epoch 56/100\n",
            "92/92 [==============================] - 1s 7ms/step - loss: 1.4560e-04\n",
            "Epoch 57/100\n",
            "92/92 [==============================] - 1s 7ms/step - loss: 1.3559e-04\n",
            "Epoch 58/100\n",
            "92/92 [==============================] - 1s 7ms/step - loss: 1.4872e-04\n",
            "Epoch 59/100\n",
            "92/92 [==============================] - 1s 7ms/step - loss: 1.2842e-04\n",
            "Epoch 60/100\n",
            "92/92 [==============================] - 1s 7ms/step - loss: 1.1997e-04\n",
            "Epoch 61/100\n",
            "92/92 [==============================] - 1s 7ms/step - loss: 1.4926e-04\n",
            "Epoch 62/100\n",
            "92/92 [==============================] - 1s 7ms/step - loss: 1.4186e-04\n",
            "Epoch 63/100\n",
            "92/92 [==============================] - 1s 7ms/step - loss: 1.2199e-04\n",
            "Epoch 64/100\n",
            "92/92 [==============================] - 1s 7ms/step - loss: 1.1826e-04\n",
            "Epoch 65/100\n",
            "92/92 [==============================] - 1s 7ms/step - loss: 1.2617e-04\n",
            "Epoch 66/100\n",
            "92/92 [==============================] - 1s 7ms/step - loss: 1.5183e-04\n",
            "Epoch 67/100\n",
            "92/92 [==============================] - 1s 7ms/step - loss: 1.2765e-04\n",
            "Epoch 68/100\n",
            "92/92 [==============================] - 1s 7ms/step - loss: 1.3868e-04\n",
            "Epoch 69/100\n",
            "92/92 [==============================] - 1s 7ms/step - loss: 1.4542e-04\n",
            "Epoch 70/100\n",
            "92/92 [==============================] - 1s 7ms/step - loss: 1.1895e-04\n",
            "Epoch 71/100\n",
            "92/92 [==============================] - 1s 7ms/step - loss: 1.0864e-04\n",
            "Epoch 72/100\n",
            "92/92 [==============================] - 1s 7ms/step - loss: 1.1054e-04\n",
            "Epoch 73/100\n",
            "92/92 [==============================] - 1s 7ms/step - loss: 1.0748e-04\n",
            "Epoch 74/100\n",
            "92/92 [==============================] - 1s 7ms/step - loss: 1.2128e-04\n",
            "Epoch 75/100\n",
            "92/92 [==============================] - 1s 7ms/step - loss: 1.2529e-04\n",
            "Epoch 76/100\n",
            "92/92 [==============================] - 1s 7ms/step - loss: 1.0709e-04\n",
            "Epoch 77/100\n",
            "92/92 [==============================] - 1s 7ms/step - loss: 1.2607e-04\n",
            "Epoch 78/100\n",
            "92/92 [==============================] - 1s 7ms/step - loss: 1.1599e-04\n",
            "Epoch 79/100\n",
            "92/92 [==============================] - 1s 7ms/step - loss: 1.0322e-04\n",
            "Epoch 80/100\n",
            "92/92 [==============================] - 1s 7ms/step - loss: 1.1422e-04\n",
            "Epoch 81/100\n",
            "92/92 [==============================] - 1s 7ms/step - loss: 1.0450e-04\n",
            "Epoch 82/100\n",
            "92/92 [==============================] - 1s 7ms/step - loss: 1.0089e-04\n",
            "Epoch 83/100\n",
            "92/92 [==============================] - 1s 7ms/step - loss: 1.1366e-04\n",
            "Epoch 84/100\n",
            "92/92 [==============================] - 1s 7ms/step - loss: 9.4936e-05\n",
            "Epoch 85/100\n",
            "92/92 [==============================] - 1s 7ms/step - loss: 9.4874e-05\n",
            "Epoch 86/100\n",
            "92/92 [==============================] - 1s 7ms/step - loss: 1.0754e-04\n",
            "Epoch 87/100\n",
            "92/92 [==============================] - 1s 7ms/step - loss: 1.0136e-04\n",
            "Epoch 88/100\n",
            "92/92 [==============================] - 1s 8ms/step - loss: 1.0169e-04\n",
            "Epoch 89/100\n",
            "92/92 [==============================] - 1s 10ms/step - loss: 1.0062e-04\n",
            "Epoch 90/100\n",
            "92/92 [==============================] - 1s 7ms/step - loss: 1.0193e-04\n",
            "Epoch 91/100\n",
            "92/92 [==============================] - 1s 8ms/step - loss: 1.1479e-04\n",
            "Epoch 92/100\n",
            "92/92 [==============================] - 1s 8ms/step - loss: 1.0404e-04\n",
            "Epoch 93/100\n",
            "92/92 [==============================] - 1s 8ms/step - loss: 9.9155e-05\n",
            "Epoch 94/100\n",
            "92/92 [==============================] - 1s 8ms/step - loss: 1.0161e-04\n",
            "Epoch 95/100\n",
            "92/92 [==============================] - 1s 8ms/step - loss: 1.0298e-04\n",
            "Epoch 96/100\n",
            "92/92 [==============================] - 1s 8ms/step - loss: 9.5888e-05\n",
            "Epoch 97/100\n",
            "92/92 [==============================] - 1s 8ms/step - loss: 9.4609e-05\n",
            "Epoch 98/100\n",
            "92/92 [==============================] - 1s 8ms/step - loss: 1.0916e-04\n",
            "Epoch 99/100\n",
            "92/92 [==============================] - 1s 8ms/step - loss: 9.7602e-05\n",
            "Epoch 100/100\n",
            "92/92 [==============================] - 1s 8ms/step - loss: 1.1902e-04\n"
          ]
        },
        {
          "output_type": "execute_result",
          "data": {
            "text/plain": [
              "<keras.callbacks.History at 0x7fe25dde1390>"
            ]
          },
          "metadata": {},
          "execution_count": 90
        }
      ]
    },
    {
      "cell_type": "markdown",
      "source": [
        "Validation"
      ],
      "metadata": {
        "id": "o2xUvppcOd5o"
      }
    },
    {
      "cell_type": "code",
      "source": [
        "predict_X=model.predict(X_test)\n",
        "import math\n",
        "from sklearn.metrics import mean_squared_error\n",
        "math.sqrt(mean_squared_error(y_test,predict_X))"
      ],
      "metadata": {
        "colab": {
          "base_uri": "https://localhost:8080/"
        },
        "id": "fLvEBnUiI4Nf",
        "outputId": "4a4a373c-e483-4e3b-f9e0-699388bd3b65"
      },
      "execution_count": 91,
      "outputs": [
        {
          "output_type": "execute_result",
          "data": {
            "text/plain": [
              "0.022440521390677353"
            ]
          },
          "metadata": {},
          "execution_count": 91
        }
      ]
    },
    {
      "cell_type": "code",
      "source": [
        "plt.plot(y_test)\n",
        "plt.plot(predict_X)\n",
        "plt.show()"
      ],
      "metadata": {
        "colab": {
          "base_uri": "https://localhost:8080/",
          "height": 265
        },
        "id": "-eqiDgo5K30d",
        "outputId": "12578f5e-39a0-4c9b-f4e8-ef1950e8e503"
      },
      "execution_count": 92,
      "outputs": [
        {
          "output_type": "display_data",
          "data": {
            "text/plain": [
              "<Figure size 432x288 with 1 Axes>"
            ],
            "image/png": "[encoded data removed]"
          },
          "metadata": {
            "needs_background": "light"
          }
        }
      ]
    },
    {
      "cell_type": "markdown",
      "source": [
        "Future Prediction"
      ],
      "metadata": {
        "id": "UJ7WQQNSOj_W"
      }
    },
    {
      "cell_type": "code",
      "source": [
        "last_five = data_trans_test[len(data_trans_test)-5:]\n",
        "i=0\n",
        "future_stock =[]\n",
        "while(i<20):\n",
        "  last_five = last_five.reshape(1,5,1)\n",
        "  value = model.predict(last_five)\n",
        "  stock=scaler.inverse_transform(value)\n",
        "  future_stock.append(stock[0][0])\n",
        "  last_five = last_five.reshape(1,5)\n",
        "  last_five = last_five[0,1:]\n",
        "  last_five = np.append(last_five,value)\n",
        "  i=i+1\n",
        "future_stock"
      ],
      "metadata": {
        "id": "t0LAQMS2LK8X"
      },
      "execution_count": null,
      "outputs": []
    },
    {
      "cell_type": "markdown",
      "source": [
        "BYE OR SELL STOCK"
      ],
      "metadata": {
        "id": "sydm8j0MUXJO"
      }
    },
    {
      "cell_type": "code",
      "source": [
        "def byeorsell(stock):\n",
        "  avg = 0\n",
        "  sum = 0\n",
        "  for i in range(len(stock)-1):\n",
        "    sum = sum + stock[i+1]-stock[i]\n",
        "  avg = sum/len(stock)-1\n",
        "  if(avg<0):\n",
        "    print('Sell')\n",
        "  else:\n",
        "    print('bye')\n",
        "byeorsell(future_stock)"
      ],
      "metadata": {
        "colab": {
          "base_uri": "https://localhost:8080/"
        },
        "id": "2lVmpNAvUWSo",
        "outputId": "be962797-5711-47b7-db75-af83ced8433e"
      },
      "execution_count": 115,
      "outputs": [
        {
          "output_type": "stream",
          "name": "stdout",
          "text": [
            "Sell\n"
          ]
        }
      ]
    }
  ]
}