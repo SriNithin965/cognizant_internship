{
  "nbformat": 4,
  "nbformat_minor": 0,
  "metadata": {
    "colab": {
      "name": "Sme-Stock-Prediction.ipynb",
      "provenance": [],
      "authorship_tag": "ABX9TyMtdeiAxrwQnFSrmTcVUlAL",
      "include_colab_link": true
    },
    "kernelspec": {
      "name": "python3",
      "display_name": "Python 3"
    },
    "language_info": {
      "name": "python"
    }
  },
  "cells": [
    {
      "cell_type": "markdown",
      "metadata": {
        "id": "view-in-github",
        "colab_type": "text"
      },
      "source": [
        "<a href=\"https://colab.research.google.com/github/SriNithin965/cognizant_internship/blob/main/Sme_Stock_Prediction.ipynb\" target=\"_parent\"><img src=\"https://colab.research.google.com/assets/colab-badge.svg\" alt=\"Open In Colab\"/></a>"
      ]
    },
    {
      "cell_type": "markdown",
      "source": [
        "Loading the packages"
      ],
      "metadata": {
        "id": "6lMQqLvx-0Tt"
      }
    },
    {
      "cell_type": "code",
      "execution_count": 42,
      "metadata": {
        "id": "DclbfZHQ-o1_"
      },
      "outputs": [],
      "source": [
        "import pandas as pd\n",
        "import numpy as np\n",
        "import matplotlib.pyplot as plt\n",
        "from sklearn.preprocessing import MinMaxScaler\n",
        "from tensorflow.keras.models import Sequential\n",
        "from tensorflow.keras.layers import LSTM\n",
        "from tensorflow.keras.layers import Dense\n",
        "from tensorflow.keras.layers import Flatten\n",
        "from sklearn.metrics import mean_squared_error"
      ]
    },
    {
      "cell_type": "markdown",
      "source": [
        "Loading the dataset"
      ],
      "metadata": {
        "id": "UrxEzEUbAQWI"
      }
    },
    {
      "cell_type": "code",
      "source": [
        "data = pd.read_csv('https://raw.githubusercontent.com/SriNithin965/cognizant_internship/main/AAPL.csv')"
      ],
      "metadata": {
        "id": "mm0IrTp3APiV"
      },
      "execution_count": 43,
      "outputs": []
    },
    {
      "cell_type": "code",
      "source": [
        "data.head(10)"
      ],
      "metadata": {
        "id": "THwYIN9lAO70"
      },
      "execution_count": null,
      "outputs": []
    },
    {
      "cell_type": "code",
      "source": [
        "data.dtypes"
      ],
      "metadata": {
        "id": "Ntq2sr5_Anyo"
      },
      "execution_count": null,
      "outputs": []
    },
    {
      "cell_type": "markdown",
      "source": [
        "changing the data type of date column"
      ],
      "metadata": {
        "id": "Chpax4YiBtO-"
      }
    },
    {
      "cell_type": "code",
      "source": [
        "data['Date'] = pd.to_datetime(data['Date'])\n",
        "data.dtypes"
      ],
      "metadata": {
        "id": "Ifq7MxK4A74L"
      },
      "execution_count": null,
      "outputs": []
    },
    {
      "cell_type": "markdown",
      "source": [
        "Visualization"
      ],
      "metadata": {
        "id": "UygUJ-m5D-Nr"
      }
    },
    {
      "cell_type": "code",
      "source": [
        "plt.figure(figsize=(10,10))\n",
        "plt.subplot(2, 2, 1)\n",
        "plt.title('Open')\n",
        "plt.plot(data['Date'],data['Open'])\n",
        "plt.subplot(2, 2, 2)\n",
        "plt.title('Close')\n",
        "plt.plot(data['Date'],data['Close'])\n",
        "plt.subplot(2, 2, 3)\n",
        "plt.title('High')\n",
        "plt.plot(data['Date'],data['High'])\n",
        "plt.subplot(2, 2, 4)\n",
        "plt.title('Low')\n",
        "plt.plot(data['Date'],data['Low'])\n",
        "plt.show()"
      ],
      "metadata": {
        "id": "59cApoZXBoAe"
      },
      "execution_count": null,
      "outputs": []
    },
    {
      "cell_type": "code",
      "source": [
        "plt.figure(figsize=(10,10))\n",
        "plt.title('Open')\n",
        "plt.plot(data['Date'],data['Open'])"
      ],
      "metadata": {
        "id": "qojFbkukaVaP"
      },
      "execution_count": null,
      "outputs": []
    },
    {
      "cell_type": "code",
      "source": [
        "data = data[['Open']]\n",
        "data.head(10)"
      ],
      "metadata": {
        "id": "N5dg3ESKECpY"
      },
      "execution_count": null,
      "outputs": []
    },
    {
      "cell_type": "markdown",
      "source": [
        "Spliting the data train and test"
      ],
      "metadata": {
        "id": "AFBSb4DgYRRO"
      }
    },
    {
      "cell_type": "code",
      "source": [
        "training_size=int(len(data)*0.80)\n",
        "test_size=len(data)-training_size\n",
        "train_data,test_data=data[0:training_size],data[training_size:len(data)]"
      ],
      "metadata": {
        "id": "LnOvFdy2MBfM"
      },
      "execution_count": 50,
      "outputs": []
    },
    {
      "cell_type": "code",
      "source": [
        "len(train_data),len(test_data)"
      ],
      "metadata": {
        "id": "Yw8ZQ8XhM7ON"
      },
      "execution_count": null,
      "outputs": []
    },
    {
      "cell_type": "markdown",
      "source": [
        "Applying the scaling - (MinMaxscaling)"
      ],
      "metadata": {
        "id": "XziimcGdYXu7"
      }
    },
    {
      "cell_type": "code",
      "source": [
        "scaler=MinMaxScaler(feature_range=(0,1))\n",
        "data_trans_train=scaler.fit_transform(np.array(train_data).reshape(-1,1))\n",
        "data_trans_test=scaler.fit_transform(np.array(test_data).reshape(-1,1))"
      ],
      "metadata": {
        "id": "3XQPtknaE4Es"
      },
      "execution_count": 52,
      "outputs": []
    },
    {
      "cell_type": "markdown",
      "source": [
        "Preparing the window"
      ],
      "metadata": {
        "id": "WdF1_aY8YfI9"
      }
    },
    {
      "cell_type": "code",
      "source": [
        "def prepare_data(timeseries_data, n_features):\n",
        "\tX, y =[],[]\n",
        "\tfor i in range(len(timeseries_data)):\n",
        "\t\tend_ix = i + n_features\n",
        "\t\tif end_ix > len(timeseries_data)-1:\n",
        "\t\t\tbreak\n",
        "\t\tseq_x, seq_y = timeseries_data[i:end_ix], timeseries_data[end_ix]\n",
        "\t\tX.append(seq_x)\n",
        "\t\ty.append(seq_y)\n",
        "\treturn np.array(X), np.array(y)"
      ],
      "metadata": {
        "id": "pKWOfngoF6mk"
      },
      "execution_count": 53,
      "outputs": []
    },
    {
      "cell_type": "code",
      "source": [
        "window_size = 3\n",
        "n_features = 1\n",
        "X_train,y_train = prepare_data(data_trans_train,window_size)\n",
        "X_test,y_test = prepare_data(data_trans_test,window_size)"
      ],
      "metadata": {
        "id": "IIyneXlDGaoo"
      },
      "execution_count": 54,
      "outputs": []
    },
    {
      "cell_type": "markdown",
      "source": [
        "Reshaping the data"
      ],
      "metadata": {
        "id": "O108JUXgYliJ"
      }
    },
    {
      "cell_type": "code",
      "source": [
        "X_train = X_train.reshape((X_train.shape[0], X_train.shape[1], n_features))\n",
        "X_test = X_test.reshape((X_test.shape[0], X_test.shape[1], n_features))"
      ],
      "metadata": {
        "id": "SJ2GY0PWHQrQ"
      },
      "execution_count": 55,
      "outputs": []
    },
    {
      "cell_type": "code",
      "source": [
        "print(X_train.shape)\n",
        "print(X_test.shape)"
      ],
      "metadata": {
        "id": "3epZg5IHH6kg"
      },
      "execution_count": null,
      "outputs": []
    },
    {
      "cell_type": "markdown",
      "source": [
        "Model building and training"
      ],
      "metadata": {
        "id": "HCzKMQgmYqFc"
      }
    },
    {
      "cell_type": "code",
      "source": [
        "model = Sequential()\n",
        "model.add(LSTM(50, activation='relu', return_sequences=True, input_shape=(window_size, n_features)))\n",
        "model.add(LSTM(50, activation='relu'))\n",
        "model.add(Dense(1))\n",
        "model.compile(optimizer='adam', loss='mse')\n",
        "epoch = 50\n",
        "model.fit(X_train, y_train, epochs=epoch, verbose=1)"
      ],
      "metadata": {
        "id": "bb6nn77iHYd3"
      },
      "execution_count": null,
      "outputs": []
    },
    {
      "cell_type": "markdown",
      "source": [
        "Validation on test data"
      ],
      "metadata": {
        "id": "o2xUvppcOd5o"
      }
    },
    {
      "cell_type": "code",
      "source": [
        "predict_X=model.predict(X_test)\n",
        "mean_squared_error(y_test,predict_X)"
      ],
      "metadata": {
        "id": "fLvEBnUiI4Nf"
      },
      "execution_count": null,
      "outputs": []
    },
    {
      "cell_type": "code",
      "source": [
        "plt.plot(y_test)\n",
        "plt.plot(predict_X)\n",
        "plt.show()"
      ],
      "metadata": {
        "id": "-eqiDgo5K30d"
      },
      "execution_count": null,
      "outputs": []
    },
    {
      "cell_type": "markdown",
      "source": [
        "BYE OR SELL STOCK"
      ],
      "metadata": {
        "id": "sydm8j0MUXJO"
      }
    },
    {
      "cell_type": "code",
      "source": [
        "def buyorsell(days):\n",
        "  window = data_trans_test[len(data_trans_test)-window_size:]\n",
        "  i=0\n",
        "  future_stock =[]\n",
        "  while(i<days):\n",
        "    window = window.reshape(1,window_size,1)\n",
        "    value = model.predict(window)\n",
        "    stock=scaler.inverse_transform(value)\n",
        "    future_stock.append(stock[0][0])\n",
        "    window = window.reshape(1,window_size)\n",
        "    window = window[0,1:]\n",
        "    window = np.append(window,value)\n",
        "    i=i+1\n",
        "  future_stock\n",
        "  avg = 0\n",
        "  sum = 0\n",
        "  print(future_stock)\n",
        "  for i in range(0,len(future_stock)-1):\n",
        "    sum = sum + (future_stock[i+1]-future_stock[i])\n",
        "  avg = sum/(len(future_stock)-1)\n",
        "  print(avg)\n",
        "  if(avg<0):\n",
        "    print('Sell the stocks')\n",
        "  else:\n",
        "    print('buy the stocks')\n",
        "\n",
        "days = int(input('based on how much days of future stocks you wanna decide to buy or sell in range of 1-100:\\n'))\n",
        "buyorsell(days)"
      ],
      "metadata": {
        "id": "2lVmpNAvUWSo"
      },
      "execution_count": null,
      "outputs": []
    }
  ]
}