{
  "nbformat": 4,
  "nbformat_minor": 0,
  "metadata": {
    "colab": {
      "name": "assessment-2.ipynb",
      "provenance": [],
      "authorship_tag": "ABX9TyPQKgFp2SG221ZaANimTrOB",
      "include_colab_link": true
    },
    "kernelspec": {
      "name": "python3",
      "display_name": "Python 3"
    },
    "language_info": {
      "name": "python"
    }
  },
  "cells": [
    {
      "cell_type": "markdown",
      "metadata": {
        "id": "view-in-github",
        "colab_type": "text"
      },
      "source": [
        "<a href=\"https://colab.research.google.com/github/SriNithin965/cognizant_internship/blob/main/assessment_2.ipynb\" target=\"_parent\"><img src=\"https://colab.research.google.com/assets/colab-badge.svg\" alt=\"Open In Colab\"/></a>"
      ]
    },
    {
      "cell_type": "code",
      "execution_count": 1,
      "metadata": {
        "id": "vFeoExl_nbOa"
      },
      "outputs": [],
      "source": [
        "import re"
      ]
    },
    {
      "cell_type": "code",
      "source": [
        "s = input('enter the file name')"
      ],
      "metadata": {
        "id": "-gFgDUwvsZ_t"
      },
      "execution_count": null,
      "outputs": []
    },
    {
      "cell_type": "code",
      "source": [
        "import urllib3 # the lib that handles the url stuff\n",
        "path = 'https://github.com/SriNithin965/cognizant_internship/blob/main/'\n",
        "path1 = path + s + '.txt'\n",
        "http = urllib3.PoolManager()\n",
        "r = http.request('GET', path1)\n",
        "li = r.data.decode('utf-8')"
      ],
      "metadata": {
        "id": "BCpC9ptbspME"
      },
      "execution_count": null,
      "outputs": []
    },
    {
      "cell_type": "code",
      "source": [
        "li = str(li)\n",
        "li"
      ],
      "metadata": {
        "id": "TAhr8viQEZHS"
      },
      "execution_count": null,
      "outputs": []
    },
    {
      "cell_type": "markdown",
      "source": [
        "**currencies**"
      ],
      "metadata": {
        "id": "D7Uiis3mv7ph"
      }
    },
    {
      "cell_type": "code",
      "source": [
        "curreny_dollar = re.findall(r'\\$[0-9]+',li)\n",
        "curreny_dollar"
      ],
      "metadata": {
        "id": "JobcwlGTtXl8"
      },
      "execution_count": null,
      "outputs": []
    },
    {
      "cell_type": "code",
      "source": [
        "curreny_rupee = re.findall(r'₹[0-9]+',li)\n",
        "curreny_rupee"
      ],
      "metadata": {
        "id": "UdH7uvbCvdtF"
      },
      "execution_count": null,
      "outputs": []
    },
    {
      "cell_type": "code",
      "source": [
        "curreny_euro = re.findall(r'£[0-9]+',li)\n",
        "curreny_euro"
      ],
      "metadata": {
        "id": "RuceFV12vqNj"
      },
      "execution_count": null,
      "outputs": []
    },
    {
      "cell_type": "markdown",
      "source": [
        "**4 letter words that begin with vowels**"
      ],
      "metadata": {
        "id": "ZMeszC8UwE_y"
      }
    },
    {
      "cell_type": "code",
      "source": [
        "words = re.findall(r'[AEIOUaeiou][A-Za-z][A-Za-z][A-Za-z]',li)\n",
        "words"
      ],
      "metadata": {
        "id": "y1_H1_MOv4vR"
      },
      "execution_count": null,
      "outputs": []
    },
    {
      "cell_type": "code",
      "source": [
        "words = re.findall('r[AEIOUaeiou][A-Za-z]{3}',li)\n",
        "words"
      ],
      "metadata": {
        "id": "cNuHfdUVwjPj"
      },
      "execution_count": null,
      "outputs": []
    },
    {
      "cell_type": "markdown",
      "source": [
        "<h1> Print all date times in the text- dd/mm/yyyy, dd/mm/yy, mm/dd/yyyy, mm/dd/yy </h1>"
      ],
      "metadata": {
        "id": "BT90YJcJwrVa"
      }
    },
    {
      "cell_type": "code",
      "source": [
        "date_format_1 = re.findall(r'(0[1-9]|[1-2][0-9]|3[0-1])\\/(0[1-9]|1[0-2])\\/([0-9]{4})',li)\n",
        "date_format_1"
      ],
      "metadata": {
        "id": "325FBue37XxS"
      },
      "execution_count": null,
      "outputs": []
    },
    {
      "cell_type": "code",
      "source": [
        "date_format_2 = re.findall(r'(0[1-9]|1[0-2])\\/(0[1-9]|[1-2][0-9]|3[0-1])\\/(\\d{2})',li)\n",
        "date_format_2"
      ],
      "metadata": {
        "id": "JuJdTD_T7c-b"
      },
      "execution_count": null,
      "outputs": []
    },
    {
      "cell_type": "code",
      "source": [
        "date_format_3 = re.findall(r'(0[1-9]|1[0-2])\\/(0[1-9]|[1-2][0-9]|3[0-1])\\/(\\d{4})',li)\n",
        "date_format_3"
      ],
      "metadata": {
        "id": "TvRihN8d7vji"
      },
      "execution_count": null,
      "outputs": []
    },
    {
      "cell_type": "code",
      "source": [
        "date_format_4 = re.findall(r'(0[1-9]|[1-2][0-9]|3[0-1])\\/(0[1-9]|1[0-2])\\/([0-9]{2})',li)\n",
        "date_format_4"
      ],
      "metadata": {
        "id": "mpBR0plr8F87"
      },
      "execution_count": null,
      "outputs": []
    },
    {
      "cell_type": "markdown",
      "source": [
        "<h2>\n",
        "Print all cardinilities and orders- 4th, fifth, sixth, 1st, 2nd, nineteenth, fifth <h2>\n",
        "\n"
      ],
      "metadata": {
        "id": "jEDq20zn8_DX"
      }
    },
    {
      "cell_type": "code",
      "source": [
        "four = re.findall('4th',li)\n",
        "len(four)"
      ],
      "metadata": {
        "id": "sBoBSTRu8-Pz"
      },
      "execution_count": null,
      "outputs": []
    },
    {
      "cell_type": "code",
      "source": [
        "five = re.findall('fifth',li)\n",
        "len(five)"
      ],
      "metadata": {
        "id": "xFnxql3F-jQT"
      },
      "execution_count": null,
      "outputs": []
    },
    {
      "cell_type": "code",
      "source": [
        "six = re.findall('sixth',li)\n",
        "len(six)"
      ],
      "metadata": {
        "id": "r6swk9fA-ryc"
      },
      "execution_count": null,
      "outputs": []
    },
    {
      "cell_type": "code",
      "source": [
        "fir = re.findall('1st',li)\n",
        "len(fir)"
      ],
      "metadata": {
        "id": "HWKoZXEB_GqB"
      },
      "execution_count": null,
      "outputs": []
    },
    {
      "cell_type": "code",
      "source": [
        "sec = re.findall('2nd',li)\n",
        "len(sec)"
      ],
      "metadata": {
        "id": "G9tRVD_w_OMc"
      },
      "execution_count": null,
      "outputs": []
    },
    {
      "cell_type": "code",
      "source": [
        "nin = re.findall('nineteenth',li)\n",
        "len(nin)"
      ],
      "metadata": {
        "id": "emEZ0WCe_VVP"
      },
      "execution_count": null,
      "outputs": []
    }
  ]
}